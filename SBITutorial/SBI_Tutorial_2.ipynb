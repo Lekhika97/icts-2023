{
 "cells": [
  {
   "cell_type": "code",
   "execution_count": 1,
   "id": "6170a8e9-c760-4ba0-ae31-b932a49beff8",
   "metadata": {
    "tags": []
   },
   "outputs": [],
   "source": [
    "import numpy as np\n",
    "import matplotlib.pyplot as plt\n",
    "import tensorflow as tf\n",
    "import pandas as pd\n",
    "%matplotlib inline"
   ]
  },
  {
   "cell_type": "markdown",
   "id": "fdebd396-a31f-4e27-9ec9-7cd6f6088632",
   "metadata": {},
   "source": [
    "# Omnifold: Multi-dimensional unbinned unfolding\n",
    "Content borrowed from Vinicius Mikuni (https://github.com/usatlas-ml-training/lbnl-2023/blob/main/unfolding/DIS_Omnifold-sol.ipynb)"
   ]
  },
  {
   "cell_type": "code",
   "execution_count": null,
   "id": "5745d1b8-4c1d-4488-b8fa-3bb93b1af060",
   "metadata": {
    "tags": []
   },
   "outputs": [],
   "source": [
    "import omnifold as of"
   ]
  },
  {
   "cell_type": "code",
   "execution_count": null,
   "id": "cd0874f4-d493-40b0-9fc7-1d03638f5652",
   "metadata": {
    "tags": []
   },
   "outputs": [],
   "source": [
    "N_Events = 10**5\n",
    "\n",
    "# Synthetic\n",
    "theta0_G = np.random.normal(0.2, 0.8, N_Events)  # Generator-level synthetic sample\n",
    "theta0_S = np.array([(x + np.random.normal(0, 0.5)) for x in theta0_G])  # Detector smearing for synthetic sample\n",
    "\n",
    "theta0 = np.stack([theta0_G, theta0_S], axis=1)\n",
    "\n",
    "# Natural\n",
    "theta_unknown_G = np.random.normal(0, 1, N_Events)\n",
    "theta_unknown_S = np.array([(x + np.random.normal(0, 0.5)) for x in theta_unknown_G])"
   ]
  },
  {
   "cell_type": "code",
   "execution_count": null,
   "id": "9c7b060e-08ef-4bb6-9203-f485b2e1d361",
   "metadata": {
    "tags": []
   },
   "outputs": [],
   "source": [
    "_, _, _ = plt.hist(theta0_G, bins=np.linspace(-3, 3, 20), color='blue', alpha=0.5, label=\"MC, true\")\n",
    "_, _, _ = plt.hist(theta0_S, bins=np.linspace(-3, 3, 20), histtype=\"step\", color='black', ls=':', label=\"MC, reco\")\n",
    "_, _, _ = plt.hist(theta_unknown_G, bins=np.linspace(-3, 3, 20), color='orange', alpha=0.5, label=\"Data, true\")\n",
    "_, _, _ = plt.hist(theta_unknown_S, bins=np.linspace(-3, 3, 20), histtype=\"step\", color='black', label=\"Data, reco\")\n",
    "plt.xlabel(\"x\")\n",
    "plt.ylabel(\"events\")\n",
    "plt.legend(frameon=False)"
   ]
  },
  {
   "cell_type": "markdown",
   "id": "49edb9ab-f2fd-411e-a9ba-dd2a0f42266c",
   "metadata": {},
   "source": [
    "### Define the Model Architecture"
   ]
  },
  {
   "cell_type": "code",
   "execution_count": null,
   "id": "21862b91-8165-4f01-859e-90e2a3904b23",
   "metadata": {
    "tags": []
   },
   "outputs": [],
   "source": [
    "inputs = Input((1,))\n",
    "hidden_layer_1 = Dense(50, activation='relu')(inputs)\n",
    "hidden_layer_2 = Dense(50, activation='relu')(hidden_layer_1)\n",
    "hidden_layer_3 = Dense(50, activation='relu')(hidden_layer_2)\n",
    "outputs = Dense(1, activation='sigmoid')(hidden_layer_3)\n",
    "model_gaus = Model(inputs=inputs, outputs=outputs)"
   ]
  },
  {
   "cell_type": "code",
   "execution_count": null,
   "id": "e2c8da10-6a9f-494a-ad7b-de5eb9eb1334",
   "metadata": {
    "tags": []
   },
   "outputs": [],
   "source": [
    "N_Iterations = 2\n",
    "myweights = of.omnifold(theta0_G, theta0_S, theta_unknown_S, N_Iterations, model_gaus)"
   ]
  },
  {
   "cell_type": "markdown",
   "id": "b432dc8e-2e36-4461-ba83-0ec7c18494d4",
   "metadata": {
    "tags": []
   },
   "source": [
    "### Plot unfolded distributions"
   ]
  },
  {
   "cell_type": "code",
   "execution_count": null,
   "id": "f319f0c1-8dfb-4746-a361-29cd5bd70281",
   "metadata": {
    "tags": []
   },
   "outputs": [],
   "source": [
    "_, _, _ = plt.hist(theta0_G, bins=np.linspace(-3, 3, 20), color='blue', alpha=0.5, label=\"MC, true\")\n",
    "_, _, _ = plt.hist(theta_unknown_G, bins=np.linspace(-3, 3, 20), color='orange', alpha=0.5, label=\"Data, true\")\n",
    "_, _, _ = plt.hist(\n",
    "    theta0_G,\n",
    "    weights=myweights[-1, 1, :],\n",
    "    bins=np.linspace(-3, 3, 20),\n",
    "    color='black',\n",
    "    histtype=\"step\",\n",
    "    label=\"OmniFolded\",\n",
    "    lw=2,\n",
    ")\n",
    "plt.xlabel(\"x\")\n",
    "plt.ylabel(\"events\")\n",
    "plt.legend(frameon=False)"
   ]
  },
  {
   "cell_type": "markdown",
   "id": "c5bd03bb-fb71-4f18-a641-237b04539c1d",
   "metadata": {},
   "source": [
    "### Plot the distribution at reco level instead of gen level"
   ]
  },
  {
   "cell_type": "code",
   "execution_count": null,
   "id": "bf6ce327-7ee9-4d85-abe4-79b12e333e9b",
   "metadata": {
    "tags": []
   },
   "outputs": [],
   "source": [
    "_,_,_=plt.hist(theta0_S,bins=np.linspace(-3,3,20),color='blue',alpha=0.5,label=\"MC, reco\")\n",
    "_,_,_=plt.hist(theta_unknown_S,bins=np.linspace(-3,3,20),color='orange',alpha=0.5,label=\"Data, reco\")\n",
    "_,_,_=plt.hist(theta0_S,weights=myweights[-1, 1, :], bins=np.linspace(-3,3,20),color='black',histtype=\"step\",label=\"OmniFolded\",lw=2)\n",
    "plt.xlabel(\"x\")\n",
    "plt.ylabel(\"events\")\n",
    "plt.legend(frameon=False)"
   ]
  },
  {
   "cell_type": "code",
   "execution_count": null,
   "id": "e2ea33d7-11da-4922-afa5-73ced5403e6c",
   "metadata": {},
   "outputs": [],
   "source": [
    "include dis"
   ]
  }
 ],
 "metadata": {
  "kernelspec": {
   "display_name": "tensorflow-2.9.0",
   "language": "python",
   "name": "tensorflow-2.9.0"
  },
  "language_info": {
   "codemirror_mode": {
    "name": "ipython",
    "version": 3
   },
   "file_extension": ".py",
   "mimetype": "text/x-python",
   "name": "python",
   "nbconvert_exporter": "python",
   "pygments_lexer": "ipython3",
   "version": "3.9.15"
  }
 },
 "nbformat": 4,
 "nbformat_minor": 5
}
