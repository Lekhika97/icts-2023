{
 "cells": [
  {
   "cell_type": "markdown",
   "metadata": {
    "id": "O3V3tNoJVYDF"
   },
   "source": [
    "# Hands on : introduction to NN on HEP dataset\n",
    "\n",
    "This tutorial will be focused on the classification problem in a physics example: training a neural network classifier to distinguish the Higgs boson signals from background events.\n",
    "\n",
    "In this tutorial, we will use TensorFlow and Keras to train our neural networks (different from the first hands on tutorial which uses PyTorch), but the concept is the same, and we will be focused more on data processing, model optimization and overtraining.\n",
    "\n",
    "Outline:\n",
    "- Load data from root files\n",
    "- Explore the data and weights\n",
    "- Preprocess data for training\n",
    "- Train a neural network\n",
    "- Quantify its performance\n",
    "- Tune the model and overtraining"
   ]
  },
  {
   "cell_type": "markdown",
   "metadata": {},
   "source": [
    "### Many thanks to _Jay Chen_, _Fernando Acosta_, _David Rousseau, Yann Coadou_ for their contributions."
   ]
  },
  {
   "cell_type": "code",
   "execution_count": 29,
   "metadata": {
    "tags": []
   },
   "outputs": [
    {
     "name": "stdout",
     "output_type": "stream",
     "text": [
      "Defaulting to user installation because normal site-packages is not writeable\n",
      "Requirement already satisfied: uproot in /global/u2/a/aishik/.local/perlmutter/tensorflow2.9.0/lib/python3.9/site-packages (5.0.11)\n",
      "Requirement already satisfied: awkward>=2.0.0 in /global/u2/a/aishik/.local/perlmutter/tensorflow2.9.0/lib/python3.9/site-packages (from uproot) (2.3.3)\n",
      "Requirement already satisfied: packaging in /global/common/software/nersc/pm-2022q4/sw/tensorflow/2.9.0/lib/python3.9/site-packages (from uproot) (22.0)\n",
      "Requirement already satisfied: numpy in /global/common/software/nersc/pm-2022q4/sw/tensorflow/2.9.0/lib/python3.9/site-packages (from uproot) (1.23.5)\n",
      "Requirement already satisfied: typing-extensions>=4.1.0 in /global/common/software/nersc/pm-2022q4/sw/tensorflow/2.9.0/lib/python3.9/site-packages (from awkward>=2.0.0->uproot) (4.4.0)\n",
      "Requirement already satisfied: awkward-cpp==22 in /global/u2/a/aishik/.local/perlmutter/tensorflow2.9.0/lib/python3.9/site-packages (from awkward>=2.0.0->uproot) (22)\n"
     ]
    }
   ],
   "source": [
    "!pip install uproot"
   ]
  },
  {
   "cell_type": "markdown",
   "metadata": {
    "id": "eT7-MMpfrlHR"
   },
   "source": [
    "## Import Packages"
   ]
  },
  {
   "cell_type": "code",
   "execution_count": 1,
   "metadata": {
    "id": "FO_W4IvbVYDL",
    "tags": []
   },
   "outputs": [
    {
     "name": "stdout",
     "output_type": "stream",
     "text": [
      "Tensorflow version: 2.9.0\n",
      "Num GPUs Available:  1\n"
     ]
    }
   ],
   "source": [
    "import os\n",
    "import numpy as np  # numpy is a python package for data processing\n",
    "import pandas as pd  # pandas is a python package for data processing\n",
    "import matplotlib.pyplot as plt  # matplotlib is a powerful package for plotting results\n",
    "import uproot  # uproot is a useful python package to read data from root files\n",
    "\n",
    "from sklearn.model_selection import train_test_split\n",
    "from sklearn.preprocessing import StandardScaler\n",
    "\n",
    "import tensorflow as tf\n",
    "from tensorflow import keras as K\n",
    "from keras.metrics import AUC\n",
    "\n",
    "print(\"Tensorflow version:\", tf.__version__)\n",
    "print(\"Num GPUs Available: \", len(tf.config.list_physical_devices('GPU')))\n",
    "os.environ['TF_CPP_MIN_LOG_LEVEL'] = '2'\n",
    "\n",
    "from IPython.display import display, HTML\n",
    "\n",
    "%matplotlib inline\n",
    "import time\n",
    "\n",
    "pd.set_option('display.max_columns', None)  # to see all columns of df.head()"
   ]
  },
  {
   "cell_type": "markdown",
   "metadata": {
    "id": "dHSzcuTgVYDT",
    "tags": []
   },
   "source": [
    "## Load events"
   ]
  },
  {
   "cell_type": "markdown",
   "metadata": {},
   "source": [
    "Data were created from ATLAS Open Data:\n",
    "\n",
    "http://opendata.atlas.cern/release/2020/documentation/datasets/intro.html\n",
    "\n",
    "The dataset we will be using contain MC simulation of the Standard Model Higgs boson production events, as well as Standard Model background, including top-quark-pair production, single-top production, production of weak bosons in association with jets (W+jets, Z+jets) and production of a pair of bosons (diboson WW, WZ, ZZ).\n",
    "\n",
    "All the data are stored in a root file, which contains different kinematic variables of each event, the event label to indicate whether an event is a signal or background, as well as the MC event weights. We use [uproot](https://indico.cern.ch/event/686641/contributions/2894906/attachments/1606247/2548596/pivarski-uproot.pdf) to read data from the root file."
   ]
  },
  {
   "cell_type": "code",
   "execution_count": 2,
   "metadata": {
    "colab": {
     "base_uri": "https://localhost:8080/"
    },
    "id": "kl-4W4Ifs8EV",
    "outputId": "54d366bc-8925-4c6a-e867-ef70016e016b",
    "tags": []
   },
   "outputs": [
    {
     "name": "stdout",
     "output_type": "stream",
     "text": [
      "{'tree_event;1': 'TTree'}\n",
      "['tree_event;1']\n",
      "name                 | typename                 | interpretation                \n",
      "---------------------+--------------------------+-------------------------------\n",
      "index                | int64_t                  | AsDtype('>i8')\n",
      "eventNumber          | int64_t                  | AsDtype('>i8')\n",
      "label                | int64_t                  | AsDtype('>i8')\n",
      "met_et               | double                   | AsDtype('>f8')\n",
      "met_phi              | double                   | AsDtype('>f8')\n",
      "lep_n                | int64_t                  | AsDtype('>i8')\n",
      "lep_pt_0             | double                   | AsDtype('>f8')\n",
      "lep_pt_1             | double                   | AsDtype('>f8')\n",
      "lep_eta_0            | double                   | AsDtype('>f8')\n",
      "lep_eta_1            | double                   | AsDtype('>f8')\n",
      "lep_phi_0            | double                   | AsDtype('>f8')\n",
      "lep_phi_1            | double                   | AsDtype('>f8')\n",
      "lep_E_0              | double                   | AsDtype('>f8')\n",
      "lep_E_1              | double                   | AsDtype('>f8')\n",
      "lep_charge_0         | int64_t                  | AsDtype('>i8')\n",
      "lep_charge_1         | int64_t                  | AsDtype('>i8')\n",
      "lep_type_0           | int64_t                  | AsDtype('>i8')\n",
      "lep_type_1           | int64_t                  | AsDtype('>i8')\n",
      "jet_n                | int64_t                  | AsDtype('>i8')\n",
      "jet_pt_0             | double                   | AsDtype('>f8')\n",
      "jet_pt_1             | double                   | AsDtype('>f8')\n",
      "jet_eta_0            | double                   | AsDtype('>f8')\n",
      "jet_eta_1            | double                   | AsDtype('>f8')\n",
      "jet_phi_0            | double                   | AsDtype('>f8')\n",
      "jet_phi_1            | double                   | AsDtype('>f8')\n",
      "jet_E_0              | double                   | AsDtype('>f8')\n",
      "jet_E_1              | double                   | AsDtype('>f8')\n",
      "mcWeight             | double                   | AsDtype('>f8')\n",
      "runNumber            | int64_t                  | AsDtype('>i8')\n",
      "channelNumber        | int64_t                  | AsDtype('>i8')\n",
      "============================================\n",
      "File loaded with  600000  events \n"
     ]
    }
   ],
   "source": [
    "filename = \"dataWW_d1.root\"\n",
    "file = uproot.open(filename)\n",
    "\n",
    "# show what is inside the root file loaded from uproot\n",
    "print(file.classnames())\n",
    "print(file.keys())\n",
    "\n",
    "tree = file[\"tree_event\"]  # select the TTree inside the root file\n",
    "tree.show()  # show all the branches inside the TTree\n",
    "dfall = tree.arrays(library=\"pd\")  # convert uproot TTree into pandas dataframe\n",
    "print(\"============================================\")\n",
    "print(\"File loaded with \", len(dfall), \" events \")"
   ]
  },
  {
   "cell_type": "markdown",
   "metadata": {},
   "source": [
    "We can also load data from other formats.\n",
    "\n",
    "For example, if the data are in a CSV file:"
   ]
  },
  {
   "cell_type": "code",
   "execution_count": 3,
   "metadata": {
    "tags": []
   },
   "outputs": [],
   "source": [
    "# csv_file = \"/global/cfs/cdirs/ntrain5/atlas-ml-training/dnn_bdt_tutorial/dataWW_d1.csv\"\n",
    "# dfall = pd.read_csv(csv_file)"
   ]
  },
  {
   "cell_type": "markdown",
   "metadata": {
    "id": "LFPm8OHuVYDY"
   },
   "source": [
    "## Examine Pandas Dataset"
   ]
  },
  {
   "cell_type": "code",
   "execution_count": 4,
   "metadata": {
    "colab": {
     "base_uri": "https://localhost:8080/"
    },
    "id": "xNeCAIuFVYDZ",
    "outputId": "b12cbd30-536e-429c-a1be-677ee0b937fb",
    "tags": []
   },
   "outputs": [
    {
     "data": {
      "text/plain": [
       "Index(['index', 'eventNumber', 'label', 'met_et', 'met_phi', 'lep_n',\n",
       "       'lep_pt_0', 'lep_pt_1', 'lep_eta_0', 'lep_eta_1', 'lep_phi_0',\n",
       "       'lep_phi_1', 'lep_E_0', 'lep_E_1', 'lep_charge_0', 'lep_charge_1',\n",
       "       'lep_type_0', 'lep_type_1', 'jet_n', 'jet_pt_0', 'jet_pt_1',\n",
       "       'jet_eta_0', 'jet_eta_1', 'jet_phi_0', 'jet_phi_1', 'jet_E_0',\n",
       "       'jet_E_1', 'mcWeight', 'runNumber', 'channelNumber'],\n",
       "      dtype='object')"
      ]
     },
     "execution_count": 4,
     "metadata": {},
     "output_type": "execute_result"
    }
   ],
   "source": [
    "# dump list of feature\n",
    "dfall.columns"
   ]
  },
  {
   "cell_type": "code",
   "execution_count": 5,
   "metadata": {
    "colab": {
     "base_uri": "https://localhost:8080/",
     "height": 226
    },
    "id": "j9l7wkkorlHe",
    "outputId": "7d824317-2287-44b0-e153-112ecf7ddc13",
    "tags": []
   },
   "outputs": [
    {
     "data": {
      "text/html": [
       "<div>\n",
       "<style scoped>\n",
       "    .dataframe tbody tr th:only-of-type {\n",
       "        vertical-align: middle;\n",
       "    }\n",
       "\n",
       "    .dataframe tbody tr th {\n",
       "        vertical-align: top;\n",
       "    }\n",
       "\n",
       "    .dataframe thead th {\n",
       "        text-align: right;\n",
       "    }\n",
       "</style>\n",
       "<table border=\"1\" class=\"dataframe\">\n",
       "  <thead>\n",
       "    <tr style=\"text-align: right;\">\n",
       "      <th></th>\n",
       "      <th>index</th>\n",
       "      <th>eventNumber</th>\n",
       "      <th>label</th>\n",
       "      <th>met_et</th>\n",
       "      <th>met_phi</th>\n",
       "      <th>lep_n</th>\n",
       "      <th>lep_pt_0</th>\n",
       "      <th>lep_pt_1</th>\n",
       "      <th>lep_eta_0</th>\n",
       "      <th>lep_eta_1</th>\n",
       "      <th>lep_phi_0</th>\n",
       "      <th>lep_phi_1</th>\n",
       "      <th>lep_E_0</th>\n",
       "      <th>lep_E_1</th>\n",
       "      <th>lep_charge_0</th>\n",
       "      <th>lep_charge_1</th>\n",
       "      <th>lep_type_0</th>\n",
       "      <th>lep_type_1</th>\n",
       "      <th>jet_n</th>\n",
       "      <th>jet_pt_0</th>\n",
       "      <th>jet_pt_1</th>\n",
       "      <th>jet_eta_0</th>\n",
       "      <th>jet_eta_1</th>\n",
       "      <th>jet_phi_0</th>\n",
       "      <th>jet_phi_1</th>\n",
       "      <th>jet_E_0</th>\n",
       "      <th>jet_E_1</th>\n",
       "      <th>mcWeight</th>\n",
       "      <th>runNumber</th>\n",
       "      <th>channelNumber</th>\n",
       "    </tr>\n",
       "  </thead>\n",
       "  <tbody>\n",
       "    <tr>\n",
       "      <th>0</th>\n",
       "      <td>0</td>\n",
       "      <td>249632</td>\n",
       "      <td>1</td>\n",
       "      <td>25.118</td>\n",
       "      <td>1.14010</td>\n",
       "      <td>2</td>\n",
       "      <td>46.439</td>\n",
       "      <td>44.589</td>\n",
       "      <td>0.131030</td>\n",
       "      <td>0.40654</td>\n",
       "      <td>2.34760</td>\n",
       "      <td>-2.41510</td>\n",
       "      <td>46838.0</td>\n",
       "      <td>48325.0</td>\n",
       "      <td>1</td>\n",
       "      <td>-1</td>\n",
       "      <td>13</td>\n",
       "      <td>11</td>\n",
       "      <td>1</td>\n",
       "      <td>53.680</td>\n",
       "      <td>-7.000</td>\n",
       "      <td>2.4346</td>\n",
       "      <td>-7.00000</td>\n",
       "      <td>-0.76667</td>\n",
       "      <td>-7.00000</td>\n",
       "      <td>308720.0</td>\n",
       "      <td>-7.0</td>\n",
       "      <td>0.000002</td>\n",
       "      <td>284500</td>\n",
       "      <td>345323</td>\n",
       "    </tr>\n",
       "    <tr>\n",
       "      <th>1</th>\n",
       "      <td>1</td>\n",
       "      <td>892975</td>\n",
       "      <td>1</td>\n",
       "      <td>27.974</td>\n",
       "      <td>0.84442</td>\n",
       "      <td>2</td>\n",
       "      <td>86.819</td>\n",
       "      <td>55.438</td>\n",
       "      <td>-0.017265</td>\n",
       "      <td>-0.16338</td>\n",
       "      <td>-1.44520</td>\n",
       "      <td>-1.72950</td>\n",
       "      <td>86832.0</td>\n",
       "      <td>56179.0</td>\n",
       "      <td>1</td>\n",
       "      <td>-1</td>\n",
       "      <td>11</td>\n",
       "      <td>13</td>\n",
       "      <td>1</td>\n",
       "      <td>126.700</td>\n",
       "      <td>-7.000</td>\n",
       "      <td>-1.2789</td>\n",
       "      <td>-7.00000</td>\n",
       "      <td>1.66290</td>\n",
       "      <td>-7.00000</td>\n",
       "      <td>245670.0</td>\n",
       "      <td>-7.0</td>\n",
       "      <td>0.000002</td>\n",
       "      <td>284500</td>\n",
       "      <td>345323</td>\n",
       "    </tr>\n",
       "    <tr>\n",
       "      <th>2</th>\n",
       "      <td>2</td>\n",
       "      <td>730573</td>\n",
       "      <td>0</td>\n",
       "      <td>123.290</td>\n",
       "      <td>-2.94810</td>\n",
       "      <td>2</td>\n",
       "      <td>105.810</td>\n",
       "      <td>40.506</td>\n",
       "      <td>-1.338900</td>\n",
       "      <td>-1.03500</td>\n",
       "      <td>0.68539</td>\n",
       "      <td>-0.90527</td>\n",
       "      <td>215700.0</td>\n",
       "      <td>64211.0</td>\n",
       "      <td>1</td>\n",
       "      <td>-1</td>\n",
       "      <td>13</td>\n",
       "      <td>13</td>\n",
       "      <td>0</td>\n",
       "      <td>-7.000</td>\n",
       "      <td>-7.000</td>\n",
       "      <td>-7.0000</td>\n",
       "      <td>-7.00000</td>\n",
       "      <td>-7.00000</td>\n",
       "      <td>-7.00000</td>\n",
       "      <td>-7.0</td>\n",
       "      <td>-7.0</td>\n",
       "      <td>0.002468</td>\n",
       "      <td>284500</td>\n",
       "      <td>363492</td>\n",
       "    </tr>\n",
       "    <tr>\n",
       "      <th>3</th>\n",
       "      <td>3</td>\n",
       "      <td>717584</td>\n",
       "      <td>0</td>\n",
       "      <td>78.558</td>\n",
       "      <td>1.04450</td>\n",
       "      <td>2</td>\n",
       "      <td>56.666</td>\n",
       "      <td>35.124</td>\n",
       "      <td>2.294600</td>\n",
       "      <td>1.88700</td>\n",
       "      <td>2.13110</td>\n",
       "      <td>-2.83820</td>\n",
       "      <td>283930.0</td>\n",
       "      <td>118570.0</td>\n",
       "      <td>-1</td>\n",
       "      <td>1</td>\n",
       "      <td>11</td>\n",
       "      <td>11</td>\n",
       "      <td>2</td>\n",
       "      <td>79.799</td>\n",
       "      <td>53.942</td>\n",
       "      <td>1.6270</td>\n",
       "      <td>0.55314</td>\n",
       "      <td>-1.84880</td>\n",
       "      <td>-0.47055</td>\n",
       "      <td>211610.0</td>\n",
       "      <td>63629.0</td>\n",
       "      <td>0.000197</td>\n",
       "      <td>284500</td>\n",
       "      <td>363492</td>\n",
       "    </tr>\n",
       "    <tr>\n",
       "      <th>4</th>\n",
       "      <td>4</td>\n",
       "      <td>319020</td>\n",
       "      <td>0</td>\n",
       "      <td>15.863</td>\n",
       "      <td>0.74840</td>\n",
       "      <td>2</td>\n",
       "      <td>94.708</td>\n",
       "      <td>72.811</td>\n",
       "      <td>0.812740</td>\n",
       "      <td>0.77954</td>\n",
       "      <td>1.84940</td>\n",
       "      <td>0.45967</td>\n",
       "      <td>127750.0</td>\n",
       "      <td>96077.0</td>\n",
       "      <td>-1</td>\n",
       "      <td>1</td>\n",
       "      <td>11</td>\n",
       "      <td>11</td>\n",
       "      <td>1</td>\n",
       "      <td>143.180</td>\n",
       "      <td>-7.000</td>\n",
       "      <td>-0.6358</td>\n",
       "      <td>-7.00000</td>\n",
       "      <td>-1.91230</td>\n",
       "      <td>-7.00000</td>\n",
       "      <td>173810.0</td>\n",
       "      <td>-7.0</td>\n",
       "      <td>0.000197</td>\n",
       "      <td>284500</td>\n",
       "      <td>363492</td>\n",
       "    </tr>\n",
       "  </tbody>\n",
       "</table>\n",
       "</div>"
      ],
      "text/plain": [
       "   index  eventNumber  label   met_et  met_phi  lep_n  lep_pt_0  lep_pt_1  \\\n",
       "0      0       249632      1   25.118  1.14010      2    46.439    44.589   \n",
       "1      1       892975      1   27.974  0.84442      2    86.819    55.438   \n",
       "2      2       730573      0  123.290 -2.94810      2   105.810    40.506   \n",
       "3      3       717584      0   78.558  1.04450      2    56.666    35.124   \n",
       "4      4       319020      0   15.863  0.74840      2    94.708    72.811   \n",
       "\n",
       "   lep_eta_0  lep_eta_1  lep_phi_0  lep_phi_1   lep_E_0   lep_E_1  \\\n",
       "0   0.131030    0.40654    2.34760   -2.41510   46838.0   48325.0   \n",
       "1  -0.017265   -0.16338   -1.44520   -1.72950   86832.0   56179.0   \n",
       "2  -1.338900   -1.03500    0.68539   -0.90527  215700.0   64211.0   \n",
       "3   2.294600    1.88700    2.13110   -2.83820  283930.0  118570.0   \n",
       "4   0.812740    0.77954    1.84940    0.45967  127750.0   96077.0   \n",
       "\n",
       "   lep_charge_0  lep_charge_1  lep_type_0  lep_type_1  jet_n  jet_pt_0  \\\n",
       "0             1            -1          13          11      1    53.680   \n",
       "1             1            -1          11          13      1   126.700   \n",
       "2             1            -1          13          13      0    -7.000   \n",
       "3            -1             1          11          11      2    79.799   \n",
       "4            -1             1          11          11      1   143.180   \n",
       "\n",
       "   jet_pt_1  jet_eta_0  jet_eta_1  jet_phi_0  jet_phi_1   jet_E_0  jet_E_1  \\\n",
       "0    -7.000     2.4346   -7.00000   -0.76667   -7.00000  308720.0     -7.0   \n",
       "1    -7.000    -1.2789   -7.00000    1.66290   -7.00000  245670.0     -7.0   \n",
       "2    -7.000    -7.0000   -7.00000   -7.00000   -7.00000      -7.0     -7.0   \n",
       "3    53.942     1.6270    0.55314   -1.84880   -0.47055  211610.0  63629.0   \n",
       "4    -7.000    -0.6358   -7.00000   -1.91230   -7.00000  173810.0     -7.0   \n",
       "\n",
       "   mcWeight  runNumber  channelNumber  \n",
       "0  0.000002     284500         345323  \n",
       "1  0.000002     284500         345323  \n",
       "2  0.002468     284500         363492  \n",
       "3  0.000197     284500         363492  \n",
       "4  0.000197     284500         363492  "
      ]
     },
     "execution_count": 5,
     "metadata": {},
     "output_type": "execute_result"
    }
   ],
   "source": [
    "# examine first few events\n",
    "dfall.head()"
   ]
  },
  {
   "cell_type": "code",
   "execution_count": 6,
   "metadata": {
    "tags": []
   },
   "outputs": [],
   "source": [
    "dfall.mcWeight *= 4  # arbitrary scale to have larger significance"
   ]
  },
  {
   "cell_type": "code",
   "execution_count": 7,
   "metadata": {
    "colab": {
     "base_uri": "https://localhost:8080/"
    },
    "id": "lQsalTmorlHj",
    "outputId": "58b3c0c9-93c6-4757-cf69-66278940e60f",
    "tags": []
   },
   "outputs": [
    {
     "name": "stdout",
     "output_type": "stream",
     "text": [
      "total label weights (498.6491778567999, 24.800213590400006)\n",
      "total class number of events (200000, 400000)\n"
     ]
    }
   ],
   "source": [
    "label_weights = (dfall[dfall.label == 0].mcWeight.sum(), dfall[dfall.label == 1].mcWeight.sum())\n",
    "print(\"total label weights\", label_weights)\n",
    "\n",
    "label_nevents = (len(dfall[dfall.label == 0]), len(dfall[dfall.label == 1]))\n",
    "print(\"total class number of events\", label_nevents)"
   ]
  },
  {
   "cell_type": "markdown",
   "metadata": {
    "id": "rtI5u5GErlHq"
   },
   "source": [
    "## Event Selection"
   ]
  },
  {
   "cell_type": "markdown",
   "metadata": {},
   "source": [
    "In this example, we want to focus on events with exactly 2 leptons. Therefore, we will select only events with exactly two leptons:\n",
    "\n",
    "`dfall.lep_n==2`\n",
    "\n",
    "In addition, we only keep events with positive event weight (the column `mcWeight`) to make it simple. This is in principle wrong, but many Data Science tools break given a negative weight."
   ]
  },
  {
   "cell_type": "code",
   "execution_count": 8,
   "metadata": {
    "colab": {
     "base_uri": "https://localhost:8080/"
    },
    "id": "kaO2JM1hrlHr",
    "outputId": "bc59e98d-f6f1-42b7-e9f3-48052fe4ebc9",
    "tags": []
   },
   "outputs": [
    {
     "name": "stdout",
     "output_type": "stream",
     "text": [
      "Number of events before selections: 600000\n",
      "Number of events after selections: 577357\n"
     ]
    }
   ],
   "source": [
    "print(\"Number of events before selections:\", len(dfall))\n",
    "fulldata = dfall[\n",
    "    (dfall.lep_n == 2) & (dfall.mcWeight > 0)\n",
    "]  # only keep events with exactly two leptons and positive event weights\n",
    "print(\"Number of events after selections:\", len(fulldata))"
   ]
  },
  {
   "cell_type": "markdown",
   "metadata": {},
   "source": [
    "The column \"label\" is whether an event is a signal (Higgs boson events) or a background. An event with the label == 1 means it is a signal event, otherwise (label == 0) it is a background event.\n",
    "\n",
    "The weights will be used during the training. The event with a larger weight will have a larger contribution in the loss function."
   ]
  },
  {
   "cell_type": "code",
   "execution_count": 9,
   "metadata": {
    "colab": {
     "base_uri": "https://localhost:8080/"
    },
    "id": "iMQpKhDKrlH0",
    "outputId": "ccb36177-999c-4203-939e-4e04383c1954",
    "tags": []
   },
   "outputs": [],
   "source": [
    "target = fulldata[\"label\"]\n",
    "weights = fulldata[\"mcWeight\"]"
   ]
  },
  {
   "cell_type": "code",
   "execution_count": 10,
   "metadata": {
    "tags": []
   },
   "outputs": [],
   "source": [
    "true_class_weights = [weights[target == 0].sum(), weights[target == 1].sum()]"
   ]
  },
  {
   "cell_type": "markdown",
   "metadata": {},
   "source": [
    "### For simplicity, we'll only use some features on the first pass"
   ]
  },
  {
   "cell_type": "code",
   "execution_count": 11,
   "metadata": {
    "colab": {
     "base_uri": "https://localhost:8080/",
     "height": 225
    },
    "id": "6e0Hlpv6rlH4",
    "outputId": "8705b9a0-9dcc-4eb6-ab49-b3fd0b8ea1a6",
    "scrolled": true,
    "tags": []
   },
   "outputs": [
    {
     "data": {
      "text/html": [
       "<div>\n",
       "<style scoped>\n",
       "    .dataframe tbody tr th:only-of-type {\n",
       "        vertical-align: middle;\n",
       "    }\n",
       "\n",
       "    .dataframe tbody tr th {\n",
       "        vertical-align: top;\n",
       "    }\n",
       "\n",
       "    .dataframe thead th {\n",
       "        text-align: right;\n",
       "    }\n",
       "</style>\n",
       "<table border=\"1\" class=\"dataframe\">\n",
       "  <thead>\n",
       "    <tr style=\"text-align: right;\">\n",
       "      <th></th>\n",
       "      <th>met_et</th>\n",
       "      <th>met_phi</th>\n",
       "      <th>lep_pt_0</th>\n",
       "      <th>lep_pt_1</th>\n",
       "      <th>lep_phi_0</th>\n",
       "      <th>lep_phi_1</th>\n",
       "    </tr>\n",
       "  </thead>\n",
       "  <tbody>\n",
       "    <tr>\n",
       "      <th>0</th>\n",
       "      <td>25.118</td>\n",
       "      <td>1.14010</td>\n",
       "      <td>46.439</td>\n",
       "      <td>44.589</td>\n",
       "      <td>2.34760</td>\n",
       "      <td>-2.41510</td>\n",
       "    </tr>\n",
       "    <tr>\n",
       "      <th>1</th>\n",
       "      <td>27.974</td>\n",
       "      <td>0.84442</td>\n",
       "      <td>86.819</td>\n",
       "      <td>55.438</td>\n",
       "      <td>-1.44520</td>\n",
       "      <td>-1.72950</td>\n",
       "    </tr>\n",
       "    <tr>\n",
       "      <th>2</th>\n",
       "      <td>123.290</td>\n",
       "      <td>-2.94810</td>\n",
       "      <td>105.810</td>\n",
       "      <td>40.506</td>\n",
       "      <td>0.68539</td>\n",
       "      <td>-0.90527</td>\n",
       "    </tr>\n",
       "    <tr>\n",
       "      <th>3</th>\n",
       "      <td>78.558</td>\n",
       "      <td>1.04450</td>\n",
       "      <td>56.666</td>\n",
       "      <td>35.124</td>\n",
       "      <td>2.13110</td>\n",
       "      <td>-2.83820</td>\n",
       "    </tr>\n",
       "    <tr>\n",
       "      <th>4</th>\n",
       "      <td>15.863</td>\n",
       "      <td>0.74840</td>\n",
       "      <td>94.708</td>\n",
       "      <td>72.811</td>\n",
       "      <td>1.84940</td>\n",
       "      <td>0.45967</td>\n",
       "    </tr>\n",
       "  </tbody>\n",
       "</table>\n",
       "</div>"
      ],
      "text/plain": [
       "    met_et  met_phi  lep_pt_0  lep_pt_1  lep_phi_0  lep_phi_1\n",
       "0   25.118  1.14010    46.439    44.589    2.34760   -2.41510\n",
       "1   27.974  0.84442    86.819    55.438   -1.44520   -1.72950\n",
       "2  123.290 -2.94810   105.810    40.506    0.68539   -0.90527\n",
       "3   78.558  1.04450    56.666    35.124    2.13110   -2.83820\n",
       "4   15.863  0.74840    94.708    72.811    1.84940    0.45967"
      ]
     },
     "execution_count": 11,
     "metadata": {},
     "output_type": "execute_result"
    }
   ],
   "source": [
    "data = pd.DataFrame(fulldata, columns=[\"met_et\", \"met_phi\", \"lep_pt_0\", \"lep_pt_1\", 'lep_phi_0', 'lep_phi_1'])\n",
    "\n",
    "# Or we can use more features to improve the discrimination power:\n",
    "# data=pd.DataFrame(fulldata, columns=[\"met_et\",\"met_phi\",\"lep_pt_0\",\"lep_pt_1\",'lep_eta_0', 'lep_eta_1',\n",
    "#                                      'lep_phi_0', 'lep_phi_1','jet_n','jet_pt_0',\n",
    "#                                      'jet_pt_1', 'jet_eta_0', 'jet_eta_1', 'jet_phi_0', 'jet_phi_1'])\n",
    "\n",
    "# We can also engineer our own feature:\n",
    "# data[\"lep_deltaphi\"]=np.abs(np.mod(data.lep_phi_1-data.lep_phi_0+3*np.pi,2*np.pi)-np.pi)\n",
    "\n",
    "data.head()"
   ]
  },
  {
   "cell_type": "code",
   "execution_count": 12,
   "metadata": {
    "colab": {
     "base_uri": "https://localhost:8080/",
     "height": 734
    },
    "id": "o2mf1bLVrlH7",
    "outputId": "b4484ca0-0983-4477-9af7-26bf496aa618",
    "tags": []
   },
   "outputs": [
    {
     "data": {
      "text/plain": [
       "<Figure size 640x480 with 0 Axes>"
      ]
     },
     "metadata": {},
     "output_type": "display_data"
    },
    {
     "data": {
      "image/png": "[encoded data removed]",
      "text/plain": [
       "<Figure size 1500x1200 with 6 Axes>"
      ]
     },
     "metadata": {},
     "output_type": "display_data"
    }
   ],
   "source": [
    "plt.figure()\n",
    "ax = data[target == 0].hist(\n",
    "    weights=weights[target == 0], figsize=(15, 12), color='b', alpha=0.4, density=True, label=\"signal\"\n",
    ")\n",
    "ax = ax.flatten()[: data.shape[1]]  # to avoid error if holes in the grid of plots (like if 7 or 8 features)\n",
    "data[target == 1].hist(\n",
    "    weights=weights[target == 1], figsize=(15, 12), color='r', alpha=0.4, density=True, ax=ax, label=\"background\"\n",
    ")\n",
    "for i in range(6):\n",
    "    ax[i].legend(loc='right')\n",
    "plt.show()"
   ]
  },
  {
   "cell_type": "markdown",
   "metadata": {
    "id": "4kowHjX4rlIC"
   },
   "source": [
    "## Data splitting\n",
    "\n",
    "It is very common in machine learning to split data into multiple independent sets, and only use part of the data for training/optimizing the machine learning models, and the rest for testing/evaluating performance.\n",
    "\n",
    "In the following, we will split the whole data into training set, validation set and test set:\n",
    "\n",
    "- __Training Dataset:__ The sample of data used to fit the model.\n",
    "- __Validation Dataset:__ The sample used to provide an unbiased evaluation of a model fit on the training dataset while tuning  hyperparameters.\n",
    "- __Test Dataset:__ The sample of data used to provide an unbiased evaluation of a final model fit on the training dataset."
   ]
  },
  {
   "cell_type": "markdown",
   "metadata": {},
   "source": [
    "### Split the Data into Training and Test"
   ]
  },
  {
   "cell_type": "code",
   "execution_count": 13,
   "metadata": {
    "colab": {
     "base_uri": "https://localhost:8080/"
    },
    "id": "Y9j5hdrmrlID",
    "outputId": "75c0925f-74c9-4e24-d169-8a884b510f4c",
    "tags": []
   },
   "outputs": [
    {
     "name": "stdout",
     "output_type": "stream",
     "text": [
      "X_train Shape:  (433017, 6)\n",
      "y_train Shape:  (433017,)\n",
      "Training Weights shape:  (433017,) \n",
      "\n",
      "X_test Shape:  (144340, 6)\n",
      "y_test Shape:  (144340,)\n",
      "Test Weights shape:  (144340,)\n"
     ]
    }
   ],
   "source": [
    "train_size = 0.75  # fraction of sample used for training\n",
    "\n",
    "X_train, X_test, y_train, y_test, weights_train, weights_test = train_test_split(\n",
    "    data, target, weights, train_size=train_size\n",
    ")\n",
    "\n",
    "y_train, y_test, weights_train, weights_test = (\n",
    "    y_train.reset_index(drop=True),\n",
    "    y_test.reset_index(drop=True),\n",
    "    weights_train.reset_index(drop=True),\n",
    "    weights_test.reset_index(drop=True),\n",
    ")\n",
    "\n",
    "print(\"X_train Shape: \", X_train.shape)\n",
    "print(\"y_train Shape: \", y_train.shape)\n",
    "print(\"Training Weights shape: \", weights_train.shape, \"\\n\")\n",
    "print(\"X_test Shape: \", X_test.shape)\n",
    "print(\"y_test Shape: \", y_test.shape)\n",
    "print(\"Test Weights shape: \", weights_test.shape)"
   ]
  },
  {
   "cell_type": "markdown",
   "metadata": {},
   "source": [
    "### Doing an extra data split. Test _and_ Validation"
   ]
  },
  {
   "cell_type": "code",
   "execution_count": 14,
   "metadata": {
    "tags": []
   },
   "outputs": [
    {
     "name": "stdout",
     "output_type": "stream",
     "text": [
      "Xtrain Shape:  (433017, 6)\n",
      "ytrain Shape:  (433017,)\n",
      "Training Weights:  (433017,) \n",
      "\n",
      "Xval Shape:  (72170, 6)\n",
      "yval Shape:  (72170,)\n",
      "Validation Weights:  (72170,) \n",
      "\n",
      "Xtest Shape:  (72170, 6)\n",
      "ytest Shape:  (72170,)\n",
      "Test Weights:  (72170,)\n"
     ]
    }
   ],
   "source": [
    "(\n",
    "    X_test,\n",
    "    X_val,\n",
    "    y_test,\n",
    "    y_val,\n",
    "    weights_test,\n",
    "    weights_val,\n",
    ") = train_test_split(X_test, y_test, weights_test, train_size=0.5, shuffle=False)\n",
    "\n",
    "print(\"Xtrain Shape: \", X_train.shape)\n",
    "print(\"ytrain Shape: \", y_train.shape)\n",
    "print(\"Training Weights: \", weights_train.shape, \"\\n\")\n",
    "print(\"Xval Shape: \", X_val.shape)\n",
    "print(\"yval Shape: \", y_val.shape)\n",
    "print(\"Validation Weights: \", weights_val.shape, \"\\n\")\n",
    "print(\"Xtest Shape: \", X_test.shape)\n",
    "print(\"ytest Shape: \", y_test.shape)\n",
    "print(\"Test Weights: \", weights_test.shape)"
   ]
  },
  {
   "cell_type": "markdown",
   "metadata": {},
   "source": [
    "## Standardize the Data\n",
    "\n",
    "When optimizing the node weights of a neural netowrk, the input scale can significantly affect the performance. That is, unscaled (raw) input variables can result in a slow or unstable learning process. We would therefore like to rescale input variables prior to training a neural network model.\n",
    "\n",
    "There are 2 common ways to rescale the data:\n",
    "\n",
    "1. **Scale to Mean of 0 and Variance of 1.0:**   $\\ \\ \\ \\ x^\\prime = (x-\\mu)/\\sigma$\n",
    "2. **Scale to Max of 1 and Min of 0:**   $\\ \\ \\ \\ x^\\prime = (x-x_{\\mathrm{min}})/(x_{\\mathrm{max}}-x_{\\mathrm{min}})$''\n",
    "\n",
    "In the following, we will go with the first approach, but feel free to try the second approach! (hint: use [sklearn.preprocessing.MinMaxScaler](https://scikit-learn.org/stable/modules/generated/sklearn.preprocessing.MinMaxScaler.html))"
   ]
  },
  {
   "cell_type": "code",
   "execution_count": 15,
   "metadata": {
    "tags": []
   },
   "outputs": [
    {
     "name": "stdout",
     "output_type": "stream",
     "text": [
      "Before standardization:\n",
      "X_train mean, std:  [ 6.045e+01 -1.000e-02  6.000e+01  2.784e+01  0.000e+00  1.000e-02] [46.78  1.81 40.77 20.06  1.81  1.81]\n",
      "===\n",
      "X_val mean, std:  [ 6.051e+01 -1.000e-02  6.010e+01  2.782e+01  1.000e-02  0.000e+00] [47.4   1.82 41.81 20.12  1.81  1.81]\n",
      "===\n",
      "X_test mean, std:  [ 6.063e+01 -1.000e-02  6.028e+01  2.796e+01  1.000e-02  2.000e-02] [46.68  1.81 41.13 20.34  1.81  1.81]\n",
      "===\n",
      "After standardization:\n",
      "X_train mean, std:  [ 0. -0.  0.  0. -0.  0.] [1. 1. 1. 1. 1. 1.]\n",
      "===\n",
      "X_val mean, std:  [ 0.   -0.    0.   -0.    0.01 -0.  ] [1.01 1.   1.03 1.   1.   1.  ]\n",
      "===\n",
      "X_test mean, std:  [ 0.   -0.    0.01  0.01  0.01  0.01] [1.   1.   1.01 1.01 1.   1.  ]\n"
     ]
    }
   ],
   "source": [
    "prec = 2\n",
    "\n",
    "print(\"Before standardization:\")\n",
    "print(\"X_train mean, std: \", X_train.to_numpy().mean(axis=0).round(prec), X_train.to_numpy().std(axis=0).round(prec))\n",
    "print(\"===\")\n",
    "print(\"X_val mean, std: \", X_val.to_numpy().mean(axis=0).round(prec), X_val.to_numpy().std(axis=0).round(prec))\n",
    "print(\"===\")\n",
    "print(\"X_test mean, std: \", X_test.to_numpy().mean(axis=0).round(prec), X_test.to_numpy().std(axis=0).round(prec))\n",
    "print(\"===\")\n",
    "\n",
    "scaler = StandardScaler()\n",
    "X_train = scaler.fit_transform(X_train)\n",
    "X_val = scaler.transform(X_val)\n",
    "X_test = scaler.transform(X_test)\n",
    "\n",
    "\n",
    "print(\"After standardization:\")\n",
    "\n",
    "print(\"X_train mean, std: \", X_train.mean(axis=0).round(prec), X_train.std(axis=0).round(prec))\n",
    "print(\"===\")\n",
    "print(\"X_val mean, std: \", X_val.mean(axis=0).round(prec), X_val.std(axis=0).round(prec))\n",
    "print(\"===\")\n",
    "print(\"X_test mean, std: \", X_test.mean(axis=0).round(prec), X_test.std(axis=0).round(prec))"
   ]
  },
  {
   "cell_type": "markdown",
   "metadata": {},
   "source": [
    "## Adjust the Test and Train Signal/Background Weights\n",
    "Train on equal amount of Signal and Background. Test on 'natural' ratio"
   ]
  },
  {
   "cell_type": "code",
   "execution_count": 16,
   "metadata": {
    "tags": []
   },
   "outputs": [
    {
     "name": "stdout",
     "output_type": "stream",
     "text": [
      "true_class_weights for (bkg, sig): [638.7539675983999, 24.71759299840001]\n",
      "class_weights_train for (bkg, sig): (478.39318119839993, 18.557534278400002)\n",
      "Train : total weight sig 478.3931811984\n",
      "Train : total weight bkg 478.39318119839993\n",
      "Validation : total weight sig 79.76583310424614\n",
      "Validation : total weight bkg 80.12830989279999\n",
      "Test : total weight sig 24.717592998400008\n",
      "Test : total weight bkg 638.7539675983999\n"
     ]
    }
   ],
   "source": [
    "class_weights_train = (weights_train[y_train == 0].sum(), weights_train[y_train == 1].sum())\n",
    "\n",
    "print(\"true_class_weights for (bkg, sig):\", true_class_weights)\n",
    "\n",
    "for i in range(len(class_weights_train)):\n",
    "    weights_train[y_train == i] *= (\n",
    "        max(class_weights_train) / class_weights_train[i]\n",
    "    )  # equalize number of background and signal event\n",
    "\n",
    "    weights_val[y_val == i] *= max(class_weights_train) / class_weights_train[i]  # likewise for validation and test sets\n",
    "\n",
    "    weights_test[y_test == i] *= (\n",
    "        true_class_weights[i] / weights_test[y_test == i].sum()\n",
    "    )  # increase test weight to compensate for sampling\n",
    "\n",
    "print(\"class_weights_train for (bkg, sig):\", class_weights_train)\n",
    "print(\"Train : total weight sig\", weights_train[y_train == 1].sum())\n",
    "print(\"Train : total weight bkg\", weights_train[y_train == 0].sum())\n",
    "print(\"Validation : total weight sig\", weights_val[y_val == 1].sum())\n",
    "print(\"Validation : total weight bkg\", weights_val[y_val == 0].sum())\n",
    "print(\"Test : total weight sig\", weights_test[y_test == 1].sum())\n",
    "print(\"Test : total weight bkg\", weights_test[y_test == 0].sum())"
   ]
  },
  {
   "cell_type": "markdown",
   "metadata": {
    "id": "yxybCOi-rlIM"
   },
   "source": [
    "## Training the neural network\n",
    "\n",
    "In the following, we will use TensorFlow and Keras to build our neural network and train the model.\n",
    "\n",
    "The architecture is pretty simple: A fully-connected network with 2 hidden layers with the ReLu activation function.\n",
    "The last layer uses the Sigmoid activation to output the classifier score ranging from 0 to 1.\n",
    "\n",
    "We will use the binary cross-entropy as the loss function, and use the Adam optimizer to train the model."
   ]
  },
  {
   "cell_type": "code",
   "execution_count": 17,
   "metadata": {
    "tags": []
   },
   "outputs": [],
   "source": [
    "model = tf.keras.models.Sequential(\n",
    "    [\n",
    "        tf.keras.layers.Flatten(input_shape=(X_train.shape[1],)),\n",
    "        tf.keras.layers.Dense(128, activation='relu'), # layer 1\n",
    "        tf.keras.layers.Dense(128, activation='relu'),\n",
    "        tf.keras.layers.Dense(1, activation='sigmoid')  \n",
    "        # Add a second layer of 128 nodes,  and an output layer with a sigmoid function\n",
    "        # ADD CONTENT HERE\n",
    "    ]\n",
    ")\n",
    "# LeekyRelu: tf.keras.layers.LeakyReLU\n",
    "# selu: tf.keras.activations.selu\n",
    "# tanh: tf.keras.activations.tanh\n",
    "\n",
    "\n",
    "model.compile(\n",
    "    loss=\"binary_crossentropy\",  # use loss=\"mean_squared_error\" for MSE loss\n",
    "    optimizer=tf.keras.optimizers.Adam(learning_rate=0.01),  # tf.keras.optimizers.experimental.SGD for the SGD optimizer\n",
    "    weighted_metrics=[AUC(name=\"auc\")],  # monitor AUC for each epoch during the training\n",
    ")"
   ]
  },
  {
   "cell_type": "code",
   "execution_count": null,
   "metadata": {
    "tags": []
   },
   "outputs": [
    {
     "name": "stdout",
     "output_type": "stream",
     "text": [
      "Start training!\n"
     ]
    }
   ],
   "source": [
    "starting_time = time.time()\n",
    "print(\"Start training!\")\n",
    "\n",
    "# model.fit() performs the training\n",
    "\n",
    "the_fit = model.fit(\n",
    "    X_train,\n",
    "    y_train.values,\n",
    "    sample_weight=weights_train,\n",
    "    epochs=10,\n",
    "    batch_size=128,\n",
    "    validation_data=(X_val, y_val, weights_val),\n",
    "    # callbacks=[K.callbacks.EarlyStopping(monitor='val_auc', patience=10, restore_best_weights=True, mode='max')], # uncomment to use early stopping (should also increase the epochs)\n",
    ")\n",
    "\n",
    "training_time = time.time() - starting_time\n",
    "print(\"Training time:\", training_time)"
   ]
  },
  {
   "cell_type": "markdown",
   "metadata": {},
   "source": [
    "### Plot the training progress"
   ]
  },
  {
   "cell_type": "code",
   "execution_count": null,
   "metadata": {
    "tags": []
   },
   "outputs": [],
   "source": [
    "fig, ax = plt.subplots(figsize=(10, 6))\n",
    "ax.plot(the_fit.history['loss'], color=\"tab:blue\")\n",
    "ax.plot(the_fit.history['val_loss'], color=\"tab:blue\", ls=\"--\")\n",
    "ax.set_xlabel(\"Epoch\", fontsize=14)\n",
    "ax.set_ylabel(\"Loss\", fontsize=14)\n",
    "ax.tick_params(width=2, grid_alpha=0.5, labelsize=12)\n",
    "ax.legend(fontsize=14, frameon=False, loc=\"upper right\")\n",
    "ax.grid(True, axis='y')\n",
    "\n",
    "ax2 = ax.twinx()\n",
    "ax2.set_ylabel(\"ROC AUC\", color='tab:orange', fontsize=14)\n",
    "ax2.tick_params(width=2, grid_alpha=0.5, labelsize=12, axis='y', labelcolor='tab:orange')\n",
    "ax2.plot(the_fit.history['auc'], color='tab:orange', lw=2)\n",
    "ax2.plot(the_fit.history['val_auc'], color='tab:orange', ls='--', lw=2)\n",
    "# ax2.set_ylim([0, 1])\n",
    "\n",
    "ax2.plot([], [], color=\"black\", label=\"training set\")\n",
    "ax2.plot([], [], color=\"black\", ls='--', label=\"validation set\")\n",
    "ax2.legend(fontsize=14, frameon=False, loc=\"right\")\n",
    "fig.tight_layout()"
   ]
  },
  {
   "cell_type": "markdown",
   "metadata": {},
   "source": [
    "### Use the model to make predicions!\n",
    "Evaluate the model based on predictions made with X_test $\\rightarrow$ y_test"
   ]
  },
  {
   "cell_type": "code",
   "execution_count": null,
   "metadata": {
    "tags": []
   },
   "outputs": [],
   "source": [
    "y_pred_test = model.predict(X_test).ravel()\n",
    "y_pred_train = model.predict(X_train).ravel()"
   ]
  },
  {
   "cell_type": "markdown",
   "metadata": {},
   "source": [
    "### ROC curves and Area Under the Curve (AUC)"
   ]
  },
  {
   "cell_type": "code",
   "execution_count": null,
   "metadata": {
    "tags": []
   },
   "outputs": [],
   "source": [
    "from sklearn.metrics import roc_curve\n",
    "from sklearn.metrics import roc_auc_score\n",
    "\n",
    "fpr_test, tpr_test, _ = roc_curve(y_true=y_test, y_score=y_pred_test, sample_weight=weights_test)\n",
    "fpr_train, tpr_train, _ = roc_curve(y_true=y_train, y_score=y_pred_train, sample_weight=weights_train)\n",
    "auc_test = roc_auc_score(y_true=y_test, y_score=y_pred_test, sample_weight=weights_test)\n",
    "auc_train = roc_auc_score(y_true=y_train.values, y_score=y_pred_train, sample_weight=weights_train)\n",
    "plt.plot(fpr_test, tpr_test, color='tab:blue', lw=2, ls=\"--\", label=f\"Test set auc: {auc_test:.4f}\")\n",
    "plt.plot(fpr_train, tpr_train, color='tab:orange', lw=2, ls=\":\", label=f\"Training set auc: {auc_train:.4f}\")\n",
    "plt.xlabel('False Positive Rate')\n",
    "plt.ylabel('True Positive Rate')\n",
    "plt.title('Receiver Operating Characteristic')\n",
    "plt.legend(loc=\"lower right\")\n",
    "plt.show()"
   ]
  },
  {
   "cell_type": "markdown",
   "metadata": {},
   "source": [
    "### Plotting NN Score for Signal and Background"
   ]
  },
  {
   "cell_type": "code",
   "execution_count": null,
   "metadata": {
    "tags": []
   },
   "outputs": [],
   "source": [
    "from extra_functions import compare_train_test\n",
    "\n",
    "compare_train_test(\n",
    "    y_pred_train,\n",
    "    y_train,\n",
    "    y_pred_test,\n",
    "    y_test,\n",
    "    xlabel=\"NN Score\",\n",
    "    title=\"NN\",\n",
    "    weights_train=weights_train.values,\n",
    "    weights_test=weights_test.values,\n",
    ")"
   ]
  },
  {
   "cell_type": "markdown",
   "metadata": {
    "id": "AIsMSGl-Kwql",
    "tags": []
   },
   "source": [
    "## Significance Function"
   ]
  },
  {
   "cell_type": "markdown",
   "metadata": {},
   "source": [
    "$\\mathrm{med}[Z_0|1] = \\sqrt{q_{0,A}} = \\sqrt{2+((s+b)\\ln(1+s/b)-s)}$\n",
    "\n",
    "**asimov significance [arXiv:1007.1727](https://arxiv.org/pdf/1007.1727.pdf) [Eq. 97]**\n",
    "\n",
    "Likelihood-based statistical test for significance. Need to esimate your sensitivity to MC. Running a toy MC thousands of times, should converge to 'truth'. Asimov is representative of number of sigmas in the gaus case.\n",
    "\n",
    "Essentially: For an observed number of signal events $s$, what is the significance $Z_0$ with which we would reject the $s = 0$ hypothesis"
   ]
  },
  {
   "cell_type": "code",
   "execution_count": null,
   "metadata": {
    "id": "qubY3CMNKwql",
    "tags": []
   },
   "outputs": [],
   "source": [
    "from math import sqrt\n",
    "from math import log\n",
    "\n",
    "\n",
    "def amsasimov(s, b):\n",
    "    if b <= 0 or s <= 0:\n",
    "        return 0\n",
    "    try:\n",
    "        return sqrt(2 * ((s + b) * log(1 + float(s) / b) - s))\n",
    "    except ValueError:\n",
    "        print(1 + float(s) / b)\n",
    "        print(2 * ((s + b) * log(1 + float(s) / b) - s))"
   ]
  },
  {
   "cell_type": "code",
   "execution_count": null,
   "metadata": {
    "tags": []
   },
   "outputs": [],
   "source": [
    "int_pred_test_sig = [weights_test[(y_test == 1) & (y_pred_test > th_cut)].sum() for th_cut in np.linspace(0, 1, num=50)]\n",
    "int_pred_test_bkg = [weights_test[(y_test == 0) & (y_pred_test > th_cut)].sum() for th_cut in np.linspace(0, 1, num=50)]\n",
    "vamsasimov = [amsasimov(sumsig, sumbkg) for (sumsig, sumbkg) in zip(int_pred_test_sig, int_pred_test_bkg)]\n",
    "Z = max(vamsasimov)\n",
    "\n",
    "plt.plot(np.linspace(0, 1, num=50), vamsasimov, label=f'Significance ($Z_{{max}} = {np.round(Z,decimals=2)}$)')\n",
    "plt.title(\"NN Significance\")\n",
    "plt.xlabel(\"Threshold\")\n",
    "plt.ylabel(\"Significance\")\n",
    "plt.legend()\n",
    "plt.show()"
   ]
  },
  {
   "cell_type": "markdown",
   "metadata": {},
   "source": [
    "## What does overtraining look like?\n",
    "\n",
    "Recipe:\n",
    "1. Add More layers\n",
    "2. Add more nodes per layer\n",
    "3. Train on less data"
   ]
  },
  {
   "cell_type": "code",
   "execution_count": null,
   "metadata": {
    "tags": []
   },
   "outputs": [],
   "source": [
    "# Crazy Example\n",
    "N = len(X_train)\n",
    "n = int(N / 1000)\n",
    "print(\"Using\", n, \"/\", N, \"events\")\n",
    "\n",
    "X_small = X_train[:n]\n",
    "y_small = y_train[:n]\n",
    "weights_small = weights_train[:n]"
   ]
  },
  {
   "cell_type": "code",
   "execution_count": null,
   "metadata": {
    "tags": []
   },
   "outputs": [],
   "source": [
    "ot_model = tf.keras.models.Sequential(\n",
    "    [\n",
    "        tf.keras.layers.Flatten(input_shape=(X_small.shape[1],)),  # input layer\n",
    "        tf.keras.layers.Dense(256, activation='relu'),  # 1st hiddden layer\n",
    "        tf.keras.layers.Dense(256, activation='relu'),\n",
    "        tf.keras.layers.Dense(256, activation='relu'),\n",
    "        tf.keras.layers.Dense(1, activation=\"sigmoid\"),\n",
    "    ]\n",
    ")\n",
    "ot_model.compile(loss=\"binary_crossentropy\", optimizer=\"adam\", weighted_metrics=[AUC(name=\"auc\")])\n",
    "starting_time = time.time()\n",
    "\n",
    "the_overfit = ot_model.fit(\n",
    "    X_small,\n",
    "    y_small.values,\n",
    "    sample_weight=weights_small,\n",
    "    epochs=25,\n",
    "    batch_size=128,\n",
    "    validation_data=(X_val, y_val, weights_val),\n",
    ")\n",
    "\n",
    "training_time = time.time() - starting_time\n",
    "print(\"Training time:\", training_time)"
   ]
  },
  {
   "cell_type": "code",
   "execution_count": null,
   "metadata": {
    "tags": []
   },
   "outputs": [],
   "source": [
    "fig, ax = plt.subplots(figsize=(10, 6))\n",
    "ax.plot(the_overfit.history['loss'], color=\"tab:blue\")\n",
    "ax.plot(the_overfit.history['val_loss'], color=\"tab:blue\", ls=\"--\")\n",
    "ax.set_xlabel(\"Epoch\", fontsize=14)\n",
    "ax.set_ylabel(\"Loss\", fontsize=14)\n",
    "ax.tick_params(width=2, grid_alpha=0.5, labelsize=12)\n",
    "ax.legend(fontsize=14, frameon=False, loc=\"upper right\")\n",
    "ax.grid(True, axis='y')\n",
    "\n",
    "ax2 = ax.twinx()\n",
    "ax2.set_ylabel(\"ROC AUC\", color='tab:orange', fontsize=14)\n",
    "ax2.tick_params(width=2, grid_alpha=0.5, labelsize=12, axis='y', labelcolor='tab:orange')\n",
    "ax2.plot(the_overfit.history['auc'], color='tab:orange', lw=2)\n",
    "ax2.plot(the_overfit.history['val_auc'], color='tab:orange', ls='--', lw=2)\n",
    "# ax2.set_ylim([0, 1])\n",
    "\n",
    "ax2.plot([], [], color=\"black\", label=\"training set\")\n",
    "ax2.plot([], [], color=\"black\", ls='--', label=\"validation set\")\n",
    "ax2.legend(fontsize=14, frameon=False, loc=\"right\")\n",
    "fig.tight_layout()"
   ]
  },
  {
   "cell_type": "code",
   "execution_count": null,
   "metadata": {
    "tags": []
   },
   "outputs": [],
   "source": [
    "ot_y_pred_test = ot_model.predict(X_test).ravel()\n",
    "ot_y_pred_train = ot_model.predict(X_small).ravel()"
   ]
  },
  {
   "cell_type": "code",
   "execution_count": null,
   "metadata": {
    "tags": []
   },
   "outputs": [],
   "source": [
    "from sklearn.metrics import roc_curve\n",
    "from sklearn.metrics import roc_auc_score\n",
    "\n",
    "fpr_test, tpr_test, _ = roc_curve(y_true=y_test, y_score=ot_y_pred_test, sample_weight=weights_test)\n",
    "fpr_train, tpr_train, _ = roc_curve(y_true=y_small, y_score=ot_y_pred_train, sample_weight=weights_small)\n",
    "auc_test = roc_auc_score(y_true=y_test, y_score=ot_y_pred_test, sample_weight=weights_test)\n",
    "auc_train = roc_auc_score(y_true=y_small.values, y_score=ot_y_pred_train, sample_weight=weights_small)\n",
    "plt.plot(fpr_test, tpr_test, color='tab:blue', lw=2, ls=\"--\", label=f\"Test set auc: {auc_test:.4f}\")\n",
    "plt.plot(fpr_train, tpr_train, color='tab:orange', lw=2, ls=\":\", label=f\"Training set auc: {auc_train:.4f}\")\n",
    "plt.xlabel('False Positive Rate')\n",
    "plt.ylabel('True Positive Rate')\n",
    "plt.title('Receiver Operating Characteristic')\n",
    "plt.legend(loc=\"lower right\")\n",
    "plt.show()"
   ]
  },
  {
   "cell_type": "markdown",
   "metadata": {
    "id": "1JKKJbnWX7Ql"
   },
   "source": [
    "## Exercises"
   ]
  },
  {
   "cell_type": "markdown",
   "metadata": {
    "id": "IQJuC2-1UkqP"
   },
   "source": [
    "### Can we try to improve the neural network performance?\n",
    "\n",
    "Hints:\n",
    "- Adjust learning rate\n",
    "- Adjust the number of neurons, and layers\n",
    "- Increase epochs\n",
    "- Enable early stopping (and increase max epochs)\n",
    "- Adjust batch size\n",
    "- Change activations: [relu, leakyrelu, selu, tanh]\n",
    "- Try different optimizers (e.g. SGD)\n",
    "- Dynamic learning rate: e.g. tfa.optimizers.RectifiedAdam as the optimizer, tf.keras.callbacks.ReduceLROnPlateau as a callback\n",
    "- Use a more complicated structure? e.g. RNN, deep sets, GNN, etc\n",
    "- More... google!"
   ]
  },
  {
   "cell_type": "code",
   "execution_count": null,
   "metadata": {},
   "outputs": [],
   "source": []
  },
  {
   "cell_type": "markdown",
   "metadata": {},
   "source": [
    "### What happens when we add more features or engineer aditional Features?\n",
    "\n",
    "Try it yourself!"
   ]
  },
  {
   "cell_type": "code",
   "execution_count": null,
   "metadata": {},
   "outputs": [],
   "source": []
  },
  {
   "cell_type": "markdown",
   "metadata": {},
   "source": [
    "### What happens when we don't standardize our inputs?\n",
    "\n",
    "Try it yourself!\n",
    "\n",
    "What about a different prescaling (using [sklearn.preprocessing.MinMaxScaler](https://scikit-learn.org/stable/modules/generated/sklearn.preprocessing.MinMaxScaler.html) for example?)"
   ]
  },
  {
   "cell_type": "code",
   "execution_count": null,
   "metadata": {},
   "outputs": [],
   "source": []
  },
  {
   "cell_type": "markdown",
   "metadata": {},
   "source": [
    "### What happens when we don't use balanced weights for signal and background?\n",
    "\n",
    "Use the raw MC weights and retrain the model.\n",
    "\n",
    "Does the \"natural\" weight always give the best performance?"
   ]
  },
  {
   "cell_type": "code",
   "execution_count": null,
   "metadata": {},
   "outputs": [],
   "source": []
  }
 ],
 "metadata": {
  "accelerator": "GPU",
  "colab": {
   "collapsed_sections": [],
   "name": "HEPML_HandsOn_NN_veryold.ipynb",
   "provenance": []
  },
  "kernelspec": {
   "display_name": "tensorflow-2.9.0",
   "language": "python",
   "name": "tensorflow-2.9.0"
  },
  "language_info": {
   "codemirror_mode": {
    "name": "ipython",
    "version": 3
   },
   "file_extension": ".py",
   "mimetype": "text/x-python",
   "name": "python",
   "nbconvert_exporter": "python",
   "pygments_lexer": "ipython3",
   "version": "3.9.15"
  },
  "vscode": {
   "interpreter": {
    "hash": "9bd38b1bab8d5fb1c387619232c3d40710b22d7732c668338a736856de239b17"
   }
  }
 },
 "nbformat": 4,
 "nbformat_minor": 4
}
